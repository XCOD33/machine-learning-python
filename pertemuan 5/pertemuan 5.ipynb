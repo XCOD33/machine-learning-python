{
 "cells": [
  {
   "attachments": {},
   "cell_type": "markdown",
   "metadata": {},
   "source": [
    "Import libraries, baca dataset"
   ]
  },
  {
   "cell_type": "code",
   "execution_count": 1,
   "metadata": {},
   "outputs": [
    {
     "name": "stdout",
     "output_type": "stream",
     "text": [
      "     Durasi Riwayat_kredit Tujuan  Jum_kredit Savings Masa_kerja Pekerjaan  \\\n",
      "0         6            A34    A43        1169     A65        A75      A173   \n",
      "1        48            A32    A43        5951     A61        A73      A173   \n",
      "2        12            A34    A46        2096     A61        A74      A172   \n",
      "3        42            A32    A42        7882     A61        A74      A173   \n",
      "4        24            A33    A40        4870     A61        A73      A173   \n",
      "..      ...            ...    ...         ...     ...        ...       ...   \n",
      "144      21            A34    A42        2288     A61        A72      A173   \n",
      "145      48            A31    A49        3566     A62        A74      A173   \n",
      "146       6            A34    A40         860     A61        A75      A173   \n",
      "147      12            A34    A40         682     A62        A74      A173   \n",
      "148      36            A34    A42        5371     A61        A73      A173   \n",
      "\n",
      "     Jum_tanggungan  creditScore  \n",
      "0                 1            1  \n",
      "1                 1            2  \n",
      "2                 2            1  \n",
      "3                 2            1  \n",
      "4                 2            2  \n",
      "..              ...          ...  \n",
      "144               1            1  \n",
      "145               1            1  \n",
      "146               1            1  \n",
      "147               1            1  \n",
      "148               1            1  \n",
      "\n",
      "[149 rows x 9 columns]\n"
     ]
    },
    {
     "data": {
      "text/plain": [
       "<bound method DataFrame.info of      Durasi Riwayat_kredit Tujuan  Jum_kredit Savings Masa_kerja Pekerjaan  \\\n",
       "0         6            A34    A43        1169     A65        A75      A173   \n",
       "1        48            A32    A43        5951     A61        A73      A173   \n",
       "2        12            A34    A46        2096     A61        A74      A172   \n",
       "3        42            A32    A42        7882     A61        A74      A173   \n",
       "4        24            A33    A40        4870     A61        A73      A173   \n",
       "..      ...            ...    ...         ...     ...        ...       ...   \n",
       "144      21            A34    A42        2288     A61        A72      A173   \n",
       "145      48            A31    A49        3566     A62        A74      A173   \n",
       "146       6            A34    A40         860     A61        A75      A173   \n",
       "147      12            A34    A40         682     A62        A74      A173   \n",
       "148      36            A34    A42        5371     A61        A73      A173   \n",
       "\n",
       "     Jum_tanggungan  creditScore  \n",
       "0                 1            1  \n",
       "1                 1            2  \n",
       "2                 2            1  \n",
       "3                 2            1  \n",
       "4                 2            2  \n",
       "..              ...          ...  \n",
       "144               1            1  \n",
       "145               1            1  \n",
       "146               1            1  \n",
       "147               1            1  \n",
       "148               1            1  \n",
       "\n",
       "[149 rows x 9 columns]>"
      ]
     },
     "execution_count": 1,
     "metadata": {},
     "output_type": "execute_result"
    }
   ],
   "source": [
    "# libraries\n",
    "from pandas import DataFrame\n",
    "import pandas as pd\n",
    "import numpy as np\n",
    "\n",
    "# baca file dataset\n",
    "df = pd.read_csv(\"Kredit_ku.csv\")\n",
    "print(df)\n",
    "df.info"
   ]
  },
  {
   "attachments": {},
   "cell_type": "markdown",
   "metadata": {},
   "source": [
    "Cek missing value"
   ]
  },
  {
   "cell_type": "code",
   "execution_count": 5,
   "metadata": {},
   "outputs": [
    {
     "data": {
      "text/plain": [
       "creditScore    0.0\n",
       "dtype: float64"
      ]
     },
     "execution_count": 5,
     "metadata": {},
     "output_type": "execute_result"
    }
   ],
   "source": [
    "creditScoreIndex = ['creditScore']\n",
    "creditScoreDf = pd.DataFrame(columns = ['creditScore'])\n",
    "creditScoreDf.info\n",
    "\n",
    "# cek adakah missing value, true = ada; false = tidak ada\n",
    "creditScoreDf.isnull().values.any()\n",
    "creditScoreDf.isnull().sum()"
   ]
  },
  {
   "attachments": {},
   "cell_type": "markdown",
   "metadata": {},
   "source": [
    "Menghitung komposisi data pada tribut dependent creditScore"
   ]
  },
  {
   "cell_type": "code",
   "execution_count": 7,
   "metadata": {},
   "outputs": [
    {
     "data": {
      "text/plain": [
       "1    112\n",
       "2     37\n",
       "Name: creditScore, dtype: int64"
      ]
     },
     "execution_count": 7,
     "metadata": {},
     "output_type": "execute_result"
    }
   ],
   "source": [
    "df.creditScore.value_counts()"
   ]
  },
  {
   "attachments": {},
   "cell_type": "markdown",
   "metadata": {},
   "source": [
    "Mengetahui informasi dan ukuran atribut independen"
   ]
  },
  {
   "cell_type": "code",
   "execution_count": 8,
   "metadata": {},
   "outputs": [
    {
     "name": "stdout",
     "output_type": "stream",
     "text": [
      "<class 'pandas.core.frame.DataFrame'>\n",
      "RangeIndex: 149 entries, 0 to 148\n",
      "Data columns (total 8 columns):\n",
      " #   Column          Non-Null Count  Dtype \n",
      "---  ------          --------------  ----- \n",
      " 0   Durasi          149 non-null    int64 \n",
      " 1   Riwayat_kredit  149 non-null    object\n",
      " 2   Tujuan          149 non-null    object\n",
      " 3   Jum_kredit      149 non-null    int64 \n",
      " 4   Savings         149 non-null    object\n",
      " 5   Masa_kerja      149 non-null    object\n",
      " 6   Pekerjaan       149 non-null    object\n",
      " 7   Jum_tanggungan  149 non-null    int64 \n",
      "dtypes: int64(3), object(5)\n",
      "memory usage: 9.4+ KB\n"
     ]
    },
    {
     "data": {
      "text/plain": [
       "(149, 8)"
      ]
     },
     "execution_count": 8,
     "metadata": {},
     "output_type": "execute_result"
    }
   ],
   "source": [
    "dfAttribute = df.drop(creditScoreDf, axis = 1)\n",
    "dfAttribute.info()\n",
    "dfAttribute.shape"
   ]
  },
  {
   "attachments": {},
   "cell_type": "markdown",
   "metadata": {},
   "source": [
    "Mengetahui missing value atribut independen"
   ]
  },
  {
   "cell_type": "code",
   "execution_count": 9,
   "metadata": {},
   "outputs": [
    {
     "data": {
      "text/plain": [
       "Durasi            0\n",
       "Riwayat_kredit    0\n",
       "Tujuan            0\n",
       "Jum_kredit        0\n",
       "Savings           0\n",
       "Masa_kerja        0\n",
       "Pekerjaan         0\n",
       "Jum_tanggungan    0\n",
       "dtype: int64"
      ]
     },
     "execution_count": 9,
     "metadata": {},
     "output_type": "execute_result"
    }
   ],
   "source": [
    "# cek apakah missing value\n",
    "dfAttribute.isnull().values.any()\n",
    "dfAttribute.isnull().sum()"
   ]
  },
  {
   "attachments": {},
   "cell_type": "markdown",
   "metadata": {},
   "source": [
    "Mengetahui atribut yang bertipe kategori"
   ]
  },
  {
   "cell_type": "code",
   "execution_count": 10,
   "metadata": {},
   "outputs": [
    {
     "name": "stdout",
     "output_type": "stream",
     "text": [
      "<class 'pandas.core.frame.DataFrame'>\n",
      "RangeIndex: 149 entries, 0 to 148\n",
      "Data columns (total 5 columns):\n",
      " #   Column          Non-Null Count  Dtype \n",
      "---  ------          --------------  ----- \n",
      " 0   Riwayat_kredit  149 non-null    object\n",
      " 1   Tujuan          149 non-null    object\n",
      " 2   Savings         149 non-null    object\n",
      " 3   Masa_kerja      149 non-null    object\n",
      " 4   Pekerjaan       149 non-null    object\n",
      "dtypes: object(5)\n",
      "memory usage: 5.9+ KB\n"
     ]
    }
   ],
   "source": [
    "kategoriDf = df.select_dtypes(include=['object'])\n",
    "kategoriDf.info()"
   ]
  },
  {
   "attachments": {},
   "cell_type": "markdown",
   "metadata": {},
   "source": [
    "Mengetahui atribut yang bertipe numerik"
   ]
  },
  {
   "cell_type": "code",
   "execution_count": 11,
   "metadata": {},
   "outputs": [
    {
     "name": "stdout",
     "output_type": "stream",
     "text": [
      "<class 'pandas.core.frame.DataFrame'>\n",
      "RangeIndex: 149 entries, 0 to 148\n",
      "Data columns (total 4 columns):\n",
      " #   Column          Non-Null Count  Dtype\n",
      "---  ------          --------------  -----\n",
      " 0   Durasi          149 non-null    int64\n",
      " 1   Jum_kredit      149 non-null    int64\n",
      " 2   Jum_tanggungan  149 non-null    int64\n",
      " 3   creditScore     149 non-null    int64\n",
      "dtypes: int64(4)\n",
      "memory usage: 4.8 KB\n"
     ]
    }
   ],
   "source": [
    "numerikDf = df.select_dtypes(include=['int64'])\n",
    "numerikDf.info()"
   ]
  },
  {
   "attachments": {},
   "cell_type": "markdown",
   "metadata": {},
   "source": [
    "Menampilkan histogram atribut bertipe numerik"
   ]
  },
  {
   "cell_type": "code",
   "execution_count": 13,
   "metadata": {},
   "outputs": [
    {
     "name": "stdout",
     "output_type": "stream",
     "text": [
      "Index(['Durasi', 'Jum_kredit', 'Jum_tanggungan', 'creditScore'], dtype='object')\n"
     ]
    }
   ],
   "source": [
    "numerikIndex = numerikDf.columns\n",
    "print(numerikIndex)"
   ]
  },
  {
   "cell_type": "code",
   "execution_count": 14,
   "metadata": {},
   "outputs": [
    {
     "data": {
      "image/png": "[encoded data removed]",
      "text/plain": [
       "<Figure size 1000x3000 with 7 Axes>"
      ]
     },
     "metadata": {},
     "output_type": "display_data"
    }
   ],
   "source": [
    "# menampilkan histogram untuk atribut numerik\n",
    "import matplotlib\n",
    "import matplotlib.pyplot as plt\n",
    "\n",
    "df.hist(column=numerikIndex, figsize=(10, 30), layout=(7, 1))\n",
    "plt.show()"
   ]
  },
  {
   "attachments": {},
   "cell_type": "markdown",
   "metadata": {},
   "source": [
    "Menampilkan boxplot"
   ]
  },
  {
   "cell_type": "code",
   "execution_count": 15,
   "metadata": {},
   "outputs": [
    {
     "data": {
      "image/png": "[encoded data removed]",
      "text/plain": [
       "<Figure size 1000x1000 with 1 Axes>"
      ]
     },
     "metadata": {},
     "output_type": "display_data"
    }
   ],
   "source": [
    "import seaborn as sns\n",
    "\n",
    "# uji antara dependent dengan umur\n",
    "fig = plt.figure(figsize=(10, 10))\n",
    "sns.boxplot(x = \"creditScore\", y = \"Durasi\", data = df)\n",
    "plt.show()"
   ]
  },
  {
   "attachments": {},
   "cell_type": "markdown",
   "metadata": {},
   "source": [
    "Menampilkan durasi berdasarkan kelas credit score"
   ]
  },
  {
   "cell_type": "code",
   "execution_count": 16,
   "metadata": {},
   "outputs": [
    {
     "data": {
      "text/html": [
       "<div>\n",
       "<style scoped>\n",
       "    .dataframe tbody tr th:only-of-type {\n",
       "        vertical-align: middle;\n",
       "    }\n",
       "\n",
       "    .dataframe tbody tr th {\n",
       "        vertical-align: top;\n",
       "    }\n",
       "\n",
       "    .dataframe thead th {\n",
       "        text-align: right;\n",
       "    }\n",
       "</style>\n",
       "<table border=\"1\" class=\"dataframe\">\n",
       "  <thead>\n",
       "    <tr style=\"text-align: right;\">\n",
       "      <th></th>\n",
       "      <th>creditScore</th>\n",
       "      <th>Durasi</th>\n",
       "    </tr>\n",
       "  </thead>\n",
       "  <tbody>\n",
       "    <tr>\n",
       "      <th>1</th>\n",
       "      <td>2</td>\n",
       "      <td>29.918919</td>\n",
       "    </tr>\n",
       "    <tr>\n",
       "      <th>0</th>\n",
       "      <td>1</td>\n",
       "      <td>19.142857</td>\n",
       "    </tr>\n",
       "  </tbody>\n",
       "</table>\n",
       "</div>"
      ],
      "text/plain": [
       "   creditScore     Durasi\n",
       "1            2  29.918919\n",
       "0            1  19.142857"
      ]
     },
     "execution_count": 16,
     "metadata": {},
     "output_type": "execute_result"
    }
   ],
   "source": [
    "# credit score dengan usia\n",
    "df[['creditScore', 'Durasi']].groupby(['creditScore'], as_index = False).mean().sort_values(by = 'Durasi', ascending = False)"
   ]
  },
  {
   "attachments": {},
   "cell_type": "markdown",
   "metadata": {},
   "source": [
    "Melakukan uji hipotesis atribut numerik independen vs atribut dependen"
   ]
  },
  {
   "cell_type": "code",
   "execution_count": 18,
   "metadata": {},
   "outputs": [
    {
     "name": "stdout",
     "output_type": "stream",
     "text": [
      "ttest -1.0279928284293551\n",
      "p value 0.31804087584513563\n",
      "Ho diterima\n"
     ]
    }
   ],
   "source": [
    "# uji hipotesis\n",
    "# karena Ho diterima, atribut Durasi terbukti tidak memiliki kontribusi untuk melakukan klasifikasi\n",
    "import random\n",
    "from scipy.stats import ttest_ind, ttest_rel\n",
    "from scipy import stats\n",
    "\n",
    "df = df[(np.abs(stats.zscore(df['Durasi'])) < 3)]\n",
    "\n",
    "income1 = df[df['creditScore'] == 1]['Durasi']\n",
    "income0 = df[df['creditScore'] == 2]['Durasi']\n",
    "\n",
    "income0 = income0.values.tolist()\n",
    "income0 = random.sample(income0, 10)\n",
    "income1 = income1.values.tolist()\n",
    "income1 = random.sample(income1, 10)\n",
    "\n",
    "ttes, pval = ttest_ind(income1, income0, equal_var=False)\n",
    "print(\"ttest\", ttes)\n",
    "print(\"p value\", pval)\n",
    "\n",
    "if pval < 0.05:\n",
    "  print(\"Ho ditolak\")\n",
    "else:\n",
    "  print(\"Ho diterima\")  "
   ]
  },
  {
   "cell_type": "code",
   "execution_count": 19,
   "metadata": {},
   "outputs": [
    {
     "name": "stdout",
     "output_type": "stream",
     "text": [
      "ttest -1.495386025822812\n",
      "p value 0.15486083413308618\n",
      "Ho diterima\n"
     ]
    }
   ],
   "source": [
    "# uji hipotesis\n",
    "import random\n",
    "from scipy.stats import ttest_ind, ttest_rel\n",
    "from scipy import stats\n",
    "\n",
    "# uji hipotesis\n",
    "# karena Ho diterima, atribut Durasi terbukti tidak memiliki kontribusi untuk melakukan klasifikasi\n",
    "import random\n",
    "from scipy.stats import ttest_ind, ttest_rel\n",
    "from scipy import stats\n",
    "\n",
    "df = df[(np.abs(stats.zscore(df['Jum_kredit'])) < 3)]\n",
    "\n",
    "income1 = df[df['creditScore'] == 1]['Jum_kredit']\n",
    "income0 = df[df['creditScore'] == 2]['Jum_kredit']\n",
    "\n",
    "income0 = income0.values.tolist()\n",
    "income0 = random.sample(income0, 10)\n",
    "income1 = income1.values.tolist()\n",
    "income1 = random.sample(income1, 10)\n",
    "\n",
    "ttes, pval = ttest_ind(income1, income0, equal_var=False)\n",
    "print(\"ttest\", ttes)\n",
    "print(\"p value\", pval)\n",
    "\n",
    "if pval < 0.05:\n",
    "  print(\"Ho ditolak\")\n",
    "else:\n",
    "  print(\"Ho diterima\")  "
   ]
  },
  {
   "cell_type": "code",
   "execution_count": 20,
   "metadata": {},
   "outputs": [
    {
     "name": "stdout",
     "output_type": "stream",
     "text": [
      "ttest 0.5999999999999991\n",
      "p value 0.5565650165675337\n",
      "Ho diterima\n"
     ]
    }
   ],
   "source": [
    "# uji hipotesis\n",
    "import random\n",
    "from scipy.stats import ttest_ind, ttest_rel\n",
    "from scipy import stats\n",
    "\n",
    "# uji hipotesis\n",
    "# karena Ho diterima, atribut Durasi terbukti tidak memiliki kontribusi untuk melakukan klasifikasi\n",
    "import random\n",
    "from scipy.stats import ttest_ind, ttest_rel\n",
    "from scipy import stats\n",
    "\n",
    "df = df[(np.abs(stats.zscore(df['Jum_tanggungan'])) < 3)]\n",
    "\n",
    "income1 = df[df['creditScore'] == 1]['Jum_tanggungan']\n",
    "income0 = df[df['creditScore'] == 2]['Jum_tanggungan']\n",
    "\n",
    "income0 = income0.values.tolist()\n",
    "income0 = random.sample(income0, 10)\n",
    "income1 = income1.values.tolist()\n",
    "income1 = random.sample(income1, 10)\n",
    "\n",
    "ttes, pval = ttest_ind(income1, income0, equal_var=False)\n",
    "print(\"ttest\", ttes)\n",
    "print(\"p value\", pval)\n",
    "\n",
    "if pval < 0.05:\n",
    "  print(\"Ho ditolak\")\n",
    "else:\n",
    "  print(\"Ho diterima\")  "
   ]
  },
  {
   "attachments": {},
   "cell_type": "markdown",
   "metadata": {},
   "source": [
    "Melakukan uji hipotesis atribut kategori independen vs atribut dependen"
   ]
  },
  {
   "cell_type": "code",
   "execution_count": 23,
   "metadata": {},
   "outputs": [
    {
     "data": {
      "image/png": "[encoded data removed]",
      "text/plain": [
       "<Figure size 640x480 with 1 Axes>"
      ]
     },
     "metadata": {},
     "output_type": "display_data"
    }
   ],
   "source": [
    "def barChart(feature):\n",
    "    accepted = df[df['creditScore'] == 1][feature].value_counts()\n",
    "    rejected = df[df['creditScore'] == 2][feature].value_counts()\n",
    "\n",
    "    df1 = pd.DataFrame([accepted, rejected])\n",
    "    df1.index = ['Accepted', 'Rejected']\n",
    "    df1.plot(kind='bar', stacked=True, fig=(18, 6), title=feature)\n",
    "\n",
    "barChart(\"Riwayat_kredit\")"
   ]
  },
  {
   "attachments": {},
   "cell_type": "markdown",
   "metadata": {},
   "source": [
    "Menampilkan tabel kontingensi"
   ]
  },
  {
   "cell_type": "code",
   "execution_count": 24,
   "metadata": {},
   "outputs": [
    {
     "data": {
      "text/html": [
       "<div>\n",
       "<style scoped>\n",
       "    .dataframe tbody tr th:only-of-type {\n",
       "        vertical-align: middle;\n",
       "    }\n",
       "\n",
       "    .dataframe tbody tr th {\n",
       "        vertical-align: top;\n",
       "    }\n",
       "\n",
       "    .dataframe thead th {\n",
       "        text-align: right;\n",
       "    }\n",
       "</style>\n",
       "<table border=\"1\" class=\"dataframe\">\n",
       "  <thead>\n",
       "    <tr style=\"text-align: right;\">\n",
       "      <th>creditScore</th>\n",
       "      <th>1</th>\n",
       "      <th>2</th>\n",
       "    </tr>\n",
       "    <tr>\n",
       "      <th>Riwayat_kredit</th>\n",
       "      <th></th>\n",
       "      <th></th>\n",
       "    </tr>\n",
       "  </thead>\n",
       "  <tbody>\n",
       "    <tr>\n",
       "      <th>A30</th>\n",
       "      <td>3</td>\n",
       "      <td>2</td>\n",
       "    </tr>\n",
       "    <tr>\n",
       "      <th>A31</th>\n",
       "      <td>3</td>\n",
       "      <td>1</td>\n",
       "    </tr>\n",
       "    <tr>\n",
       "      <th>A32</th>\n",
       "      <td>59</td>\n",
       "      <td>17</td>\n",
       "    </tr>\n",
       "    <tr>\n",
       "      <th>A33</th>\n",
       "      <td>8</td>\n",
       "      <td>4</td>\n",
       "    </tr>\n",
       "    <tr>\n",
       "      <th>A34</th>\n",
       "      <td>39</td>\n",
       "      <td>10</td>\n",
       "    </tr>\n",
       "  </tbody>\n",
       "</table>\n",
       "</div>"
      ],
      "text/plain": [
       "creditScore      1   2\n",
       "Riwayat_kredit        \n",
       "A30              3   2\n",
       "A31              3   1\n",
       "A32             59  17\n",
       "A33              8   4\n",
       "A34             39  10"
      ]
     },
     "execution_count": 24,
     "metadata": {},
     "output_type": "execute_result"
    }
   ],
   "source": [
    "# contingency table\n",
    "cT = pd.crosstab(df['Riwayat_kredit'], df['creditScore'], margins=False)\n",
    "cT"
   ]
  },
  {
   "cell_type": "code",
   "execution_count": 25,
   "metadata": {},
   "outputs": [
    {
     "name": "stdout",
     "output_type": "stream",
     "text": [
      "dof=4\n",
      "p_value 0.7853458416600356\n",
      "[[ 3.83561644  1.16438356]\n",
      " [ 3.06849315  0.93150685]\n",
      " [58.30136986 17.69863014]\n",
      " [ 9.20547945  2.79452055]\n",
      " [37.5890411  11.4109589 ]]\n",
      "probabilitas=0.990, critical= 13, stat=1.730,\n",
      "Independent (Terima Ho)\n"
     ]
    }
   ],
   "source": [
    "from scipy.stats import chi2_contingency\n",
    "from scipy.stats import chi2\n",
    "\n",
    "stat, p, dof, expected = chi2_contingency(cT)\n",
    "print(\"dof=%d\" % dof)\n",
    "print(\"p_value\", p)\n",
    "print(expected)\n",
    "\n",
    "# interpet test-statistic\n",
    "prob = 0.99\n",
    "critical = chi2.ppf(prob, dof)\n",
    "print(\"probabilitas=%.3f, critical=%3.f, stat=%.3f,\" % (prob, critical, stat))\n",
    "if abs(stat) >= critical:\n",
    "  print(\"Dependent (tolak Ho)\")\n",
    "else:\n",
    "  print(\"Independent (Terima Ho)\")"
   ]
  },
  {
   "attachments": {},
   "cell_type": "markdown",
   "metadata": {},
   "source": [
    "Menampilkan Pearson correlation"
   ]
  },
  {
   "cell_type": "code",
   "execution_count": 27,
   "metadata": {},
   "outputs": [
    {
     "data": {
      "image/png": "[encoded data removed]",
      "text/plain": [
       "<Figure size 1200x1000 with 2 Axes>"
      ]
     },
     "metadata": {},
     "output_type": "display_data"
    },
    {
     "data": {
      "text/plain": [
       "Durasi         0.308726\n",
       "Jum_kredit     0.196635\n",
       "creditScore    1.000000\n",
       "Name: creditScore, dtype: float64"
      ]
     },
     "execution_count": 27,
     "metadata": {},
     "output_type": "execute_result"
    }
   ],
   "source": [
    "# using Pearson Correlation\n",
    "plt.figure(figsize=(12, 10))\n",
    "cor = df.corr(numeric_only=True)\n",
    "sns.heatmap(cor, annot=True, cmap=plt.cm.Reds)\n",
    "plt.show()\n",
    "\n",
    "# correlation with output variable\n",
    "corTarget = abs(cor['creditScore'])\n",
    "\n",
    "# selecting highly correlated features\n",
    "relevantFeatures = corTarget[corTarget > 0.1]\n",
    "relevantFeatures"
   ]
  }
 ],
 "metadata": {
  "kernelspec": {
   "display_name": "Python 3",
   "language": "python",
   "name": "python3"
  },
  "language_info": {
   "codemirror_mode": {
    "name": "ipython",
    "version": 3
   },
   "file_extension": ".py",
   "mimetype": "text/x-python",
   "name": "python",
   "nbconvert_exporter": "python",
   "pygments_lexer": "ipython3",
   "version": "3.10.6"
  },
  "orig_nbformat": 4
 },
 "nbformat": 4,
 "nbformat_minor": 2
}
