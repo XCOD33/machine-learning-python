{
 "cells": [
  {
   "cell_type": "code",
   "execution_count": 1,
   "metadata": {},
   "outputs": [
    {
     "name": "stdout",
     "output_type": "stream",
     "text": [
      "   KodeApt  Wilayah  St_Milik  Jum_kamar\n",
      "0    104.0        0         1        3.0\n",
      "1    197.0        2         0        3.0\n",
      "2   8837.0        2         0        3.0\n",
      "3    201.0        3         0        1.0\n",
      "4    203.0        3         1        3.0\n",
      "5    207.0        3         1        3.0\n",
      "6    837.0        1         1        2.0\n",
      "7    213.0        0         1        3.0\n",
      "8    215.0        0         1        3.0\n"
     ]
    }
   ],
   "source": [
    "from sklearn.preprocessing import MinMaxScaler\n",
    "from sklearn.preprocessing import LabelEncoder\n",
    "from pandas import DataFrame\n",
    "import pandas as pd\n",
    "import numpy as np\n",
    "\n",
    "# baca file dataset\n",
    "df = pd.read_csv(\"Apartemen_numerik.csv\")\n",
    "print(df)"
   ]
  },
  {
   "cell_type": "code",
   "execution_count": 2,
   "metadata": {},
   "outputs": [
    {
     "name": "stdout",
     "output_type": "stream",
     "text": [
      "           KodeApt   Wilayah  St_Milik  Jum_kamar\n",
      "count     9.000000  9.000000  9.000000   9.000000\n",
      "mean   1223.777778  1.555556  0.666667   2.666667\n",
      "std    2863.130445  1.333333  0.500000   0.707107\n",
      "min     104.000000  0.000000  0.000000   1.000000\n",
      "25%     201.000000  0.000000  0.000000   3.000000\n",
      "50%     207.000000  2.000000  1.000000   3.000000\n",
      "75%     215.000000  3.000000  1.000000   3.000000\n",
      "max    8837.000000  3.000000  1.000000   3.000000\n"
     ]
    }
   ],
   "source": [
    "# menampilkan statistik deskriptif\n",
    "print(df.describe())"
   ]
  },
  {
   "cell_type": "code",
   "execution_count": 4,
   "metadata": {},
   "outputs": [
    {
     "name": "stdout",
     "output_type": "stream",
     "text": [
      "   KodeApt  Wilayah  St_Milik  Jum_kamar\n",
      "0    104.0        0         1        3.0\n",
      "1    197.0        2         0        3.0\n",
      "2   8837.0        2         0      100.0\n",
      "3    201.0        3         0        1.0\n",
      "4    203.0        3         1        3.0\n",
      "5    207.0        3         1        3.0\n",
      "6    837.0        1         1        2.0\n",
      "7    213.0        0         1        3.0\n",
      "8    215.0        0         1        3.0\n",
      "(9, 4)\n",
      "0      3.0\n",
      "1      3.0\n",
      "2    100.0\n",
      "3      1.0\n",
      "4      3.0\n",
      "5      3.0\n",
      "6      2.0\n",
      "7      3.0\n",
      "8      3.0\n",
      "Name: Jum_kamar, dtype: float64\n"
     ]
    }
   ],
   "source": [
    "# mengganti pada lokasi spesifik\n",
    "df.loc[2, 'Jum_kamar'] = 100\n",
    "print(df)\n",
    "print(df.shape)\n",
    "print(df['Jum_kamar'])"
   ]
  },
  {
   "cell_type": "code",
   "execution_count": 5,
   "metadata": {},
   "outputs": [],
   "source": [
    "fitur_minmax = df.copy()\n",
    "kol_minmax = ['Jum_kamar']\n",
    "features = fitur_minmax[kol_minmax]\n",
    "min_max = MinMaxScaler()\n",
    "kamar_minmax = min_max.fit_transform(features.values)"
   ]
  },
  {
   "cell_type": "code",
   "execution_count": 6,
   "metadata": {},
   "outputs": [
    {
     "name": "stdout",
     "output_type": "stream",
     "text": [
      "[[0.02020202]\n",
      " [0.02020202]\n",
      " [1.        ]\n",
      " [0.        ]\n",
      " [0.02020202]\n",
      " [0.02020202]\n",
      " [0.01010101]\n",
      " [0.02020202]\n",
      " [0.02020202]]\n"
     ]
    }
   ],
   "source": [
    "print(kamar_minmax)"
   ]
  },
  {
   "cell_type": "code",
   "execution_count": 7,
   "metadata": {},
   "outputs": [
    {
     "name": "stdout",
     "output_type": "stream",
     "text": [
      "   KodeApt  Wilayah  St_Milik  Jum_kamar\n",
      "0    104.0        0         1   0.020202\n",
      "1    197.0        2         0   0.020202\n",
      "2   8837.0        2         0   1.000000\n",
      "3    201.0        3         0   0.000000\n",
      "4    203.0        3         1   0.020202\n",
      "5    207.0        3         1   0.020202\n",
      "6    837.0        1         1   0.010101\n",
      "7    213.0        0         1   0.020202\n",
      "8    215.0        0         1   0.020202\n"
     ]
    }
   ],
   "source": [
    "fitur_minmax[kol_minmax] = kamar_minmax\n",
    "print(fitur_minmax)"
   ]
  },
  {
   "cell_type": "code",
   "execution_count": null,
   "metadata": {},
   "outputs": [],
   "source": [
    "df.to_csv(\"Apartemen_minmax.csv\", header=True, index=False)"
   ]
  }
 ],
 "metadata": {
  "kernelspec": {
   "display_name": "Python 3",
   "language": "python",
   "name": "python3"
  },
  "language_info": {
   "codemirror_mode": {
    "name": "ipython",
    "version": 3
   },
   "file_extension": ".py",
   "mimetype": "text/x-python",
   "name": "python",
   "nbconvert_exporter": "python",
   "pygments_lexer": "ipython3",
   "version": "3.10.6"
  },
  "orig_nbformat": 4
 },
 "nbformat": 4,
 "nbformat_minor": 2
}
